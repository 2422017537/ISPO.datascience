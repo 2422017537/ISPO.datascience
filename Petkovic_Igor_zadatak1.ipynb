{
 "cells": [
  {
   "cell_type": "code",
   "execution_count": 1,
   "id": "2f1c5c27-3bcd-443e-b475-9a531fe4f6be",
   "metadata": {},
   "outputs": [],
   "source": [
    "import pandas as pd"
   ]
  },
  {
   "cell_type": "code",
   "execution_count": 2,
   "id": "94a629f2-d205-487e-94a3-8e8832524928",
   "metadata": {},
   "outputs": [],
   "source": [
    "df = pd.read_csv('/Users/ip/desktop/3S_ISPO/online_retail.csv')"
   ]
  },
  {
   "cell_type": "code",
   "execution_count": 4,
   "id": "02c4c538-ad55-4f66-a61c-ad88a1978f06",
   "metadata": {},
   "outputs": [
    {
     "name": "stdout",
     "output_type": "stream",
     "text": [
      "   OrderID            Date  CustomerID         Country       Product  \\\n",
      "0   536365  12/1/2024 8:26     17850.0  United Kingdom  White Hanger   \n",
      "1   536366  12/1/2024 8:28     17850.0  United Kingdom     Cream Cup   \n",
      "2   536367  12/1/2024 8:34         NaN          France   Alarm Clock   \n",
      "3   536368  12/1/2024 8:34     13047.0          France   Toy Soldier   \n",
      "4   536368  12/1/2024 8:34     13047.0          France   Toy Soldier   \n",
      "5   536369  12/1/2024 8:35     13047.0         Germany    Wooden Box   \n",
      "6   536370  12/1/2024 8:45     12583.0          France    Toy Rabbit   \n",
      "7   536371  12/1/2024 9:00     13748.0         Germany     Red Scarf   \n",
      "8   536372  12/1/2024 9:01     13748.0  United Kingdom    Blue Scarf   \n",
      "\n",
      "   Quantity  UnitPrice   Category  \n",
      "0         6       2.55  Household  \n",
      "1         2       1.85    Kitchen  \n",
      "2        -1       3.75      Decor  \n",
      "3         3       2.10       Toys  \n",
      "4         3       2.10       Toys  \n",
      "5         1       2.10      Decor  \n",
      "6        -2       2.10        NaN  \n",
      "7         6       4.25    Apparel  \n",
      "8        10       4.25    Apparel  \n"
     ]
    }
   ],
   "source": [
    "print(df)"
   ]
  },
  {
   "cell_type": "code",
   "execution_count": 6,
   "id": "1fbd9b82-b885-4a9a-841b-37c1395c8a69",
   "metadata": {},
   "outputs": [],
   "source": [
    "df = df.drop_duplicates() #UKLANJANJE DUPLIH REDOVA"
   ]
  },
  {
   "cell_type": "code",
   "execution_count": 7,
   "id": "167f2e18-1544-4295-a6bf-cc8b1e85f3aa",
   "metadata": {},
   "outputs": [
    {
     "name": "stdout",
     "output_type": "stream",
     "text": [
      "   OrderID            Date  CustomerID         Country       Product  \\\n",
      "0   536365  12/1/2024 8:26     17850.0  United Kingdom  White Hanger   \n",
      "1   536366  12/1/2024 8:28     17850.0  United Kingdom     Cream Cup   \n",
      "2   536367  12/1/2024 8:34         NaN          France   Alarm Clock   \n",
      "3   536368  12/1/2024 8:34     13047.0          France   Toy Soldier   \n",
      "5   536369  12/1/2024 8:35     13047.0         Germany    Wooden Box   \n",
      "6   536370  12/1/2024 8:45     12583.0          France    Toy Rabbit   \n",
      "7   536371  12/1/2024 9:00     13748.0         Germany     Red Scarf   \n",
      "8   536372  12/1/2024 9:01     13748.0  United Kingdom    Blue Scarf   \n",
      "\n",
      "   Quantity  UnitPrice   Category  \n",
      "0         6       2.55  Household  \n",
      "1         2       1.85    Kitchen  \n",
      "2        -1       3.75      Decor  \n",
      "3         3       2.10       Toys  \n",
      "5         1       2.10      Decor  \n",
      "6        -2       2.10        NaN  \n",
      "7         6       4.25    Apparel  \n",
      "8        10       4.25    Apparel  \n"
     ]
    }
   ],
   "source": [
    "print(df)"
   ]
  },
  {
   "cell_type": "code",
   "execution_count": 8,
   "id": "8b94cedd-ef0b-4ebb-90cf-76355a7e34f6",
   "metadata": {},
   "outputs": [
    {
     "data": {
      "text/plain": [
       "np.int64(2)"
      ]
     },
     "execution_count": 8,
     "metadata": {},
     "output_type": "execute_result"
    }
   ],
   "source": [
    "(df[\"Quantity\"] < 0).sum() #PROVJERA NEGAITVNIH VRIJEDNOSTI --> ISPISUJE BROJ REDOVA KOJI SADRŽE NEGATIVNE VRIJEDNOSTI"
   ]
  },
  {
   "cell_type": "code",
   "execution_count": 9,
   "id": "cdcc1a51-6dc2-4a46-b116-b724b3783a04",
   "metadata": {},
   "outputs": [],
   "source": [
    "df = df[df[\"Quantity\"] > 0] #UKLANJANJE NEGATIVNIH REDOVA"
   ]
  },
  {
   "cell_type": "code",
   "execution_count": 14,
   "id": "448fe26b-8be0-4ec1-9673-d979fe4766bc",
   "metadata": {},
   "outputs": [
    {
     "name": "stdout",
     "output_type": "stream",
     "text": [
      "Negativnih količina nakon čišćenja: 0\n"
     ]
    }
   ],
   "source": [
    "print(\"Negativnih količina nakon čišćenja:\", (df[\"Quantity\"] < 0).sum()) #PROVJERA NAKON ČIŠĆENJA"
   ]
  },
  {
   "cell_type": "code",
   "execution_count": 16,
   "id": "2466486f-3d5b-4cb8-ad06-02bdbbfa9d7f",
   "metadata": {},
   "outputs": [],
   "source": [
    " #RJEŠAVANJE PROBLEMA NEDOSTAJAĆUJIH VRIJEDNOSTI"
   ]
  },
  {
   "cell_type": "code",
   "execution_count": 17,
   "id": "8f7c8b3d-7c55-454e-81d6-a78e3f2c5c49",
   "metadata": {},
   "outputs": [
    {
     "data": {
      "text/plain": [
       "OrderID       0\n",
       "Date          0\n",
       "CustomerID    0\n",
       "Country       0\n",
       "Product       0\n",
       "Quantity      0\n",
       "UnitPrice     0\n",
       "Category      0\n",
       "dtype: int64"
      ]
     },
     "execution_count": 17,
     "metadata": {},
     "output_type": "execute_result"
    }
   ],
   "source": [
    "df.isnull().sum() #OVA NAREDBA PRIKAZUJE BROJ PRAZNIH (NaN) VRIJEDNOSTI U SVAKOM STUPCU --> PREMA OVOME IH TRENUTNO NEMA"
   ]
  },
  {
   "cell_type": "code",
   "execution_count": 18,
   "id": "bd3d11bb-2562-4a89-b351-f8dcbc14caed",
   "metadata": {},
   "outputs": [
    {
     "data": {
      "text/plain": [
       "OrderID         int64\n",
       "Date           object\n",
       "CustomerID    float64\n",
       "Country        object\n",
       "Product        object\n",
       "Quantity        int64\n",
       "UnitPrice     float64\n",
       "Category       object\n",
       "dtype: object"
      ]
     },
     "execution_count": 18,
     "metadata": {},
     "output_type": "execute_result"
    }
   ],
   "source": [
    "df.dtypes #PROVJERA TIPOVA PODATAKA STUPACA"
   ]
  },
  {
   "cell_type": "code",
   "execution_count": 19,
   "id": "ecfc24ec-a5c7-4f94-9dd4-1c2ded6536a2",
   "metadata": {},
   "outputs": [],
   "source": [
    "df[\"Date\"] = pd.to_datetime(df[\"Date\"], errors='coerce') #PROMJENA TIPA PODATAKA STUPCA DATE (DATUM) IZ OBJECT U DATE"
   ]
  },
  {
   "cell_type": "code",
   "execution_count": 21,
   "id": "5d5f1bb3-d610-4c10-a879-f8ac5c3f51f6",
   "metadata": {},
   "outputs": [
    {
     "data": {
      "text/plain": [
       "OrderID                int64\n",
       "Date          datetime64[ns]\n",
       "CustomerID           float64\n",
       "Country               object\n",
       "Product               object\n",
       "Quantity               int64\n",
       "UnitPrice            float64\n",
       "Category              object\n",
       "dtype: object"
      ]
     },
     "execution_count": 21,
     "metadata": {},
     "output_type": "execute_result"
    }
   ],
   "source": [
    "df.dtypes #PROVJERA TIPOVA PODATAKA STUPACA NAKON IZMJENA"
   ]
  },
  {
   "cell_type": "code",
   "execution_count": 22,
   "id": "6cdcba4c-17e6-44be-aff3-ac76572ce593",
   "metadata": {},
   "outputs": [],
   "source": [
    "df[\"Revenue\"] = df[\"Quantity\"] * df[\"UnitPrice\"] # KREIRANJE STUPACA REVENUE"
   ]
  },
  {
   "cell_type": "code",
   "execution_count": 23,
   "id": "a28aef7a-4741-4496-bfc7-4f32a2bccefb",
   "metadata": {},
   "outputs": [],
   "source": [
    "df[\"DayOfWeek\"] = df[\"Date\"].dt.day_name() # KREIRANJE STUPCA DAY OF WEEK"
   ]
  },
  {
   "cell_type": "code",
   "execution_count": 24,
   "id": "58ace929-2b07-4a13-a532-e8be8a65b773",
   "metadata": {},
   "outputs": [
    {
     "data": {
      "text/html": [
       "<div>\n",
       "<style scoped>\n",
       "    .dataframe tbody tr th:only-of-type {\n",
       "        vertical-align: middle;\n",
       "    }\n",
       "\n",
       "    .dataframe tbody tr th {\n",
       "        vertical-align: top;\n",
       "    }\n",
       "\n",
       "    .dataframe thead th {\n",
       "        text-align: right;\n",
       "    }\n",
       "</style>\n",
       "<table border=\"1\" class=\"dataframe\">\n",
       "  <thead>\n",
       "    <tr style=\"text-align: right;\">\n",
       "      <th></th>\n",
       "      <th>Date</th>\n",
       "      <th>DayOfWeek</th>\n",
       "      <th>Quantity</th>\n",
       "      <th>UnitPrice</th>\n",
       "      <th>Revenue</th>\n",
       "    </tr>\n",
       "  </thead>\n",
       "  <tbody>\n",
       "    <tr>\n",
       "      <th>0</th>\n",
       "      <td>2024-12-01 08:26:00</td>\n",
       "      <td>Sunday</td>\n",
       "      <td>6</td>\n",
       "      <td>2.55</td>\n",
       "      <td>15.3</td>\n",
       "    </tr>\n",
       "    <tr>\n",
       "      <th>1</th>\n",
       "      <td>2024-12-01 08:28:00</td>\n",
       "      <td>Sunday</td>\n",
       "      <td>2</td>\n",
       "      <td>1.85</td>\n",
       "      <td>3.7</td>\n",
       "    </tr>\n",
       "    <tr>\n",
       "      <th>3</th>\n",
       "      <td>2024-12-01 08:34:00</td>\n",
       "      <td>Sunday</td>\n",
       "      <td>3</td>\n",
       "      <td>2.10</td>\n",
       "      <td>6.3</td>\n",
       "    </tr>\n",
       "    <tr>\n",
       "      <th>5</th>\n",
       "      <td>2024-12-01 08:35:00</td>\n",
       "      <td>Sunday</td>\n",
       "      <td>1</td>\n",
       "      <td>2.10</td>\n",
       "      <td>2.1</td>\n",
       "    </tr>\n",
       "    <tr>\n",
       "      <th>7</th>\n",
       "      <td>2024-12-01 09:00:00</td>\n",
       "      <td>Sunday</td>\n",
       "      <td>6</td>\n",
       "      <td>4.25</td>\n",
       "      <td>25.5</td>\n",
       "    </tr>\n",
       "  </tbody>\n",
       "</table>\n",
       "</div>"
      ],
      "text/plain": [
       "                 Date DayOfWeek  Quantity  UnitPrice  Revenue\n",
       "0 2024-12-01 08:26:00    Sunday         6       2.55     15.3\n",
       "1 2024-12-01 08:28:00    Sunday         2       1.85      3.7\n",
       "3 2024-12-01 08:34:00    Sunday         3       2.10      6.3\n",
       "5 2024-12-01 08:35:00    Sunday         1       2.10      2.1\n",
       "7 2024-12-01 09:00:00    Sunday         6       4.25     25.5"
      ]
     },
     "execution_count": 24,
     "metadata": {},
     "output_type": "execute_result"
    }
   ],
   "source": [
    "df[[\"Date\", \"DayOfWeek\", \"Quantity\", \"UnitPrice\", \"Revenue\"]].head() #PROVEJRA NOVIH STUPACA"
   ]
  },
  {
   "cell_type": "code",
   "execution_count": 25,
   "id": "1429cbf5-13fc-423d-ac9a-80f8b8ac3bbe",
   "metadata": {},
   "outputs": [
    {
     "name": "stdout",
     "output_type": "stream",
     "text": [
      "   OrderID                Date  CustomerID         Country       Product  \\\n",
      "0   536365 2024-12-01 08:26:00     17850.0  United Kingdom  White Hanger   \n",
      "1   536366 2024-12-01 08:28:00     17850.0  United Kingdom     Cream Cup   \n",
      "3   536368 2024-12-01 08:34:00     13047.0          France   Toy Soldier   \n",
      "5   536369 2024-12-01 08:35:00     13047.0         Germany    Wooden Box   \n",
      "7   536371 2024-12-01 09:00:00     13748.0         Germany     Red Scarf   \n",
      "8   536372 2024-12-01 09:01:00     13748.0  United Kingdom    Blue Scarf   \n",
      "\n",
      "   Quantity  UnitPrice   Category  Revenue DayOfWeek  \n",
      "0         6       2.55  Household     15.3    Sunday  \n",
      "1         2       1.85    Kitchen      3.7    Sunday  \n",
      "3         3       2.10       Toys      6.3    Sunday  \n",
      "5         1       2.10      Decor      2.1    Sunday  \n",
      "7         6       4.25    Apparel     25.5    Sunday  \n",
      "8        10       4.25    Apparel     42.5    Sunday  \n"
     ]
    }
   ],
   "source": [
    "print(df)"
   ]
  },
  {
   "cell_type": "code",
   "execution_count": 26,
   "id": "6b8df997-5225-417b-a5cb-ccd87a3e8fe2",
   "metadata": {},
   "outputs": [],
   "source": [
    "# ****************************************************************************************"
   ]
  },
  {
   "cell_type": "code",
   "execution_count": 27,
   "id": "31a07e0a-86f8-4dd5-9c7c-c4e7e3d5f0f3",
   "metadata": {},
   "outputs": [],
   "source": [
    "# **********************Podaci su očišćeni i pripremljeni za analizu**********************"
   ]
  },
  {
   "cell_type": "code",
   "execution_count": 28,
   "id": "1b7200a8-3168-4833-ba94-e45eaf25c60e",
   "metadata": {},
   "outputs": [],
   "source": [
    "# ****************************************************************************************"
   ]
  },
  {
   "cell_type": "code",
   "execution_count": 29,
   "id": "5d81a07c-a66a-4983-a0b0-a7ffedb32bca",
   "metadata": {},
   "outputs": [],
   "source": [
    "#           Pitanje 1: Tko su naši najbolji kupci?????????????????????????"
   ]
  },
  {
   "cell_type": "code",
   "execution_count": 30,
   "id": "84a872ed-e16d-45c1-b3b6-b6228cecb7af",
   "metadata": {},
   "outputs": [],
   "source": [
    "revenue_per_customer = df.groupby(\"CustomerID\")[\"Revenue\"].sum() #UKUPAN PRIHOD PO KUPCU"
   ]
  },
  {
   "cell_type": "code",
   "execution_count": 38,
   "id": "38686f53-c903-46f9-9b74-43e52b253421",
   "metadata": {},
   "outputs": [
    {
     "data": {
      "text/plain": [
       "CustomerID\n",
       "13748.0    68.0\n",
       "17850.0    19.0\n",
       "13047.0     8.4\n",
       "Name: Revenue, dtype: float64"
      ]
     },
     "execution_count": 38,
     "metadata": {},
     "output_type": "execute_result"
    }
   ],
   "source": [
    "top5_customers = df.groupby(\"CustomerID\")[\"Revenue\"].sum().sort_values(ascending=False).head(5) ####TOP 5 KUPACA PO UKUPNOM PRIHODU\n",
    "top5_customers"
   ]
  },
  {
   "cell_type": "code",
   "execution_count": 39,
   "id": "6133c8ba-daf7-42db-b5ee-c249df53e615",
   "metadata": {},
   "outputs": [],
   "source": [
    "import matplotlib.pyplot as plt #IMPORTANJE LIBRARYA ZA GRAFIKONE"
   ]
  },
  {
   "cell_type": "code",
   "execution_count": 41,
   "id": "6a2a09d7-6707-4fc4-935c-e8c2bf8c1bd2",
   "metadata": {},
   "outputs": [],
   "source": [
    "top5_customers = top5_customers.reset_index()  # indeks -> stupac\n",
    "top5_customers.columns = [\"CustomerID\", \"TotalRevenue\"]"
   ]
  },
  {
   "cell_type": "code",
   "execution_count": 45,
   "id": "f7a421e0-0f33-4d6c-92d8-3fd697671b2d",
   "metadata": {},
   "outputs": [
    {
     "data": {
      "text/plain": [
       "<BarContainer object of 3 artists>"
      ]
     },
     "execution_count": 45,
     "metadata": {},
     "output_type": "execute_result"
    },
    {
     "data": {
      "image/png": "[encoded data removed]",
      "text/plain": [
       "<Figure size 640x480 with 1 Axes>"
      ]
     },
     "metadata": {},
     "output_type": "display_data"
    }
   ],
   "source": [
    "plt.bar(top5_customers[\"CustomerID\"].astype(str), top5_customers[\"TotalRevenue\"], color='BLACK')"
   ]
  },
  {
   "cell_type": "code",
   "execution_count": 46,
   "id": "268d4082-ae7b-47d9-9dad-55edabbe9a1e",
   "metadata": {},
   "outputs": [],
   "source": [
    "######################Koja je prosječna vrijednost narudžbe po državi?####################\n",
    "##########################################################################################"
   ]
  },
  {
   "cell_type": "code",
   "execution_count": 48,
   "id": "fbf0737b-0f52-4b65-b568-e827b1c1de4e",
   "metadata": {},
   "outputs": [],
   "source": [
    "order_revenue = df.groupby([\"Country\", \"OrderID\"])[\"Revenue\"].sum().reset_index() #PRIHOD SVAKE POJEDINE NARUDZBE"
   ]
  },
  {
   "cell_type": "code",
   "execution_count": 49,
   "id": "199cb404-67cd-49f7-a9ab-efe4d0542421",
   "metadata": {},
   "outputs": [],
   "source": [
    "avg_revenue_per_order = order_revenue.groupby(\"Country\")[\"Revenue\"].mean().reset_index() # PROSJECAN PRIHOD PO NARUDZBI PO DRZAVI\n",
    "avg_revenue_per_order.columns = [\"Country\", \"AvgRevenuePerOrder\"]"
   ]
  },
  {
   "cell_type": "code",
   "execution_count": 54,
   "id": "9c6f5449-d7ad-49ba-a7b3-e68136acaff8",
   "metadata": {},
   "outputs": [
    {
     "data": {
      "text/html": [
       "<div>\n",
       "<style scoped>\n",
       "    .dataframe tbody tr th:only-of-type {\n",
       "        vertical-align: middle;\n",
       "    }\n",
       "\n",
       "    .dataframe tbody tr th {\n",
       "        vertical-align: top;\n",
       "    }\n",
       "\n",
       "    .dataframe thead th {\n",
       "        text-align: right;\n",
       "    }\n",
       "</style>\n",
       "<table border=\"1\" class=\"dataframe\">\n",
       "  <thead>\n",
       "    <tr style=\"text-align: right;\">\n",
       "      <th></th>\n",
       "      <th>Country</th>\n",
       "      <th>AvgRevenuePerOrder</th>\n",
       "    </tr>\n",
       "  </thead>\n",
       "  <tbody>\n",
       "    <tr>\n",
       "      <th>2</th>\n",
       "      <td>United Kingdom</td>\n",
       "      <td>20.5</td>\n",
       "    </tr>\n",
       "    <tr>\n",
       "      <th>1</th>\n",
       "      <td>Germany</td>\n",
       "      <td>13.8</td>\n",
       "    </tr>\n",
       "    <tr>\n",
       "      <th>0</th>\n",
       "      <td>France</td>\n",
       "      <td>6.3</td>\n",
       "    </tr>\n",
       "  </tbody>\n",
       "</table>\n",
       "</div>"
      ],
      "text/plain": [
       "          Country  AvgRevenuePerOrder\n",
       "2  United Kingdom                20.5\n",
       "1         Germany                13.8\n",
       "0          France                 6.3"
      ]
     },
     "execution_count": 54,
     "metadata": {},
     "output_type": "execute_result"
    }
   ],
   "source": [
    "order_revenue = df.groupby([\"Country\", \"OrderID\"])[\"Revenue\"].sum().reset_index() #Ukupan prihod po narudžbi unutar svake države\n",
    "avg_revenue_per_order = order_revenue.groupby(\"Country\")[\"Revenue\"].mean().reset_index() #Prosječan prihod po narudžbi po državi\n",
    "avg_revenue_per_order.columns = [\"Country\", \"AvgRevenuePerOrder\"]\n",
    "avg_revenue_per_order_sorted = avg_revenue_per_order.sort_values(\"AvgRevenuePerOrder\", ascending=False) #Sortiranje od najveće prema najmanjoj\n",
    "avg_revenue_per_order_sorted #Prikaz tablice"
   ]
  },
  {
   "cell_type": "code",
   "execution_count": 60,
   "id": "db2e5af7-0695-4ff8-b005-86b72e891f4f",
   "metadata": {},
   "outputs": [],
   "source": [
    "top5_countries = avg_revenue_per_order_sorted.head(5) #UZIMA TOP 5 DRZAVA PO UKUPNOM PRIODU KOJE SU VEĆ SORTIRANE (avg_revenue_per_order_sorted)"
   ]
  },
  {
   "cell_type": "code",
   "execution_count": 62,
   "id": "8c2ec4e7-d0fd-4678-a787-d7fa8eab1b33",
   "metadata": {},
   "outputs": [
    {
     "data": {
      "image/png": "[encoded data removed]",
      "text/plain": [
       "<Figure size 800x500 with 1 Axes>"
      ]
     },
     "metadata": {},
     "output_type": "display_data"
    }
   ],
   "source": [
    "plt.figure(figsize=(8,5))\n",
    "plt.bar(top5_countries[\"Country\"], top5_countries[\"AvgRevenuePerOrder\"], color='PURPLE')\n",
    "\n",
    "plt.title(\"Top 5 država po prosječnom prihodu po narudžbi\")\n",
    "plt.xlabel(\"Država\")\n",
    "plt.ylabel(\"Prosječan prihod po narudžbi\")\n",
    "plt.xticks(rotation=45)\n",
    "plt.tight_layout()\n",
    "\n",
    "plt.show()"
   ]
  },
  {
   "cell_type": "code",
   "execution_count": 63,
   "id": "95fb42dc-5403-453e-a6e3-9d38ebd79804",
   "metadata": {},
   "outputs": [],
   "source": [
    "######################Kakva je distribucija cijena proizvoda (UnitPrice)?####################\n",
    "##########################################################################################"
   ]
  },
  {
   "cell_type": "code",
   "execution_count": 70,
   "id": "a06ec2e4-9961-4734-b3ac-72482f55aa3e",
   "metadata": {},
   "outputs": [
    {
     "data": {
      "text/plain": [
       "count    6.0000\n",
       "mean     2.8500\n",
       "std      1.1077\n",
       "min      1.8500\n",
       "25%      2.1000\n",
       "50%      2.3250\n",
       "75%      3.8250\n",
       "max      4.2500\n",
       "Name: UnitPrice, dtype: float64"
      ]
     },
     "execution_count": 70,
     "metadata": {},
     "output_type": "execute_result"
    }
   ],
   "source": [
    "df[\"UnitPrice\"].describe() # STATISTICKI PREGLED CIJENA"
   ]
  },
  {
   "cell_type": "code",
   "execution_count": 71,
   "id": "7d15c43f-6d92-4500-bbd4-4bca0810cd2f",
   "metadata": {},
   "outputs": [
    {
     "data": {
      "text/plain": [
       "<Axes: >"
      ]
     },
     "execution_count": 71,
     "metadata": {},
     "output_type": "execute_result"
    },
    {
     "data": {
      "image/png": "[encoded data removed]",
      "text/plain": [
       "<Figure size 640x480 with 1 Axes>"
      ]
     },
     "metadata": {},
     "output_type": "display_data"
    }
   ],
   "source": [
    "df[\"UnitPrice\"].hist() #HISTOGRAM"
   ]
  },
  {
   "cell_type": "code",
   "execution_count": 78,
   "id": "577885ed-dc7a-4300-9e85-01ca75afa9da",
   "metadata": {},
   "outputs": [],
   "source": [
    "data_filtrirano = df[df[\"UnitPrice\"] < 5]"
   ]
  },
  {
   "cell_type": "code",
   "execution_count": 79,
   "id": "7d166708-3138-4d72-8aee-e45b681f1ea4",
   "metadata": {},
   "outputs": [
    {
     "data": {
      "text/plain": [
       "<Axes: >"
      ]
     },
     "execution_count": 79,
     "metadata": {},
     "output_type": "execute_result"
    },
    {
     "data": {
      "image/png": "[encoded data removed]",
      "text/plain": [
       "<Figure size 640x480 with 1 Axes>"
      ]
     },
     "metadata": {},
     "output_type": "display_data"
    }
   ],
   "source": [
    "# Histogram filtriranih cijena\n",
    "data_filtrirano[\"UnitPrice\"].hist()"
   ]
  },
  {
   "cell_type": "code",
   "execution_count": 3,
   "id": "3d4af4e8-880c-4150-a369-999f478a9cc3",
   "metadata": {},
   "outputs": [],
   "source": [
    "#x os bi trebala predstavljati interavle cijena koje su manje od 5, a os y koliko se proizvoda nalazi u svakom od tih raspona."
   ]
  },
  {
   "cell_type": "code",
   "execution_count": 4,
   "id": "93ebfcbd-d49d-4a9e-9a58-38c084ac286c",
   "metadata": {},
   "outputs": [],
   "source": [
    "# vecina proizvoda je u cjenovnom rangu 1-3???"
   ]
  }
 ],
 "metadata": {
  "kernelspec": {
   "display_name": "Python [conda env:base] *",
   "language": "python",
   "name": "conda-base-py"
  },
  "language_info": {
   "codemirror_mode": {
    "name": "ipython",
    "version": 3
   },
   "file_extension": ".py",
   "mimetype": "text/x-python",
   "name": "python",
   "nbconvert_exporter": "python",
   "pygments_lexer": "ipython3",
   "version": "3.13.5"
  }
 },
 "nbformat": 4,
 "nbformat_minor": 5
}
