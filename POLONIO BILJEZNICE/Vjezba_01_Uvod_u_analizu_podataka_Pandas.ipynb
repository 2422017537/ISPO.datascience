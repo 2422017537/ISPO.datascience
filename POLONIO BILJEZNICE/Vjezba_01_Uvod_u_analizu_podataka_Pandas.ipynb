{
 "cells": [
  {
   "cell_type": "markdown",
   "id": "5e224a86-927b-43dd-acb6-c69d58f39811",
   "metadata": {},
   "source": [
    "# =============================================================================\n",
    "# KORAK 1: UVOZ BIBLIOTEKA I UČITAVANJE PODATAKA\n",
    "# =============================================================================\n",
    "# Objašnjenje: \"Kao prvo, moramo uvesti alate koje ćemo koristiti. 'pandas' je\n",
    "# švicarski nožić za rad s podacima u Pythonu.\""
   ]
  },
  {
   "cell_type": "code",
   "execution_count": 4,
   "id": "6e6e2007-7acd-4099-b07c-ae5de43c02af",
   "metadata": {},
   "outputs": [],
   "source": [
    "import pandas as pd"
   ]
  },
  {
   "cell_type": "markdown",
   "id": "2e18b205-8722-4b48-b02b-8bba986a4d20",
   "metadata": {},
   "source": [
    "# Objašnjenje: \"Sada ćemo učitati naš CSV file u nešto što pandas zove DataFrame.\n",
    "# Zamislite DataFrame kao pametnu Excel tablicu unutar Pythona.\""
   ]
  },
  {
   "cell_type": "code",
   "execution_count": 9,
   "id": "5b2c17bd-4405-43aa-a9f0-f7f023a2983b",
   "metadata": {},
   "outputs": [],
   "source": [
    "data = pd.read_csv('prodaja.csv')"
   ]
  },
  {
   "cell_type": "markdown",
   "id": "a68c4c50-9ffa-45bc-b980-d1b76a99cec8",
   "metadata": {},
   "source": [
    "# =============================================================================\n",
    "# KORAK 2: OSNOVNA INSPEKCIJA PODATAKA (Exploratory Data Analysis - EDA)\n",
    "# =============================================================================\n",
    "# Objašnjenje: \"Prva stvar koju SVAKI data analyst radi je da pogleda podatke.\n",
    "# Nikad ne vjerujte podacima na prvu. Idemo vidjeti s čime radimo.\""
   ]
  },
  {
   "cell_type": "code",
   "execution_count": 12,
   "id": "5a798bfa-899c-44ba-805f-28c844fcd3ee",
   "metadata": {},
   "outputs": [
    {
     "name": "stdout",
     "output_type": "stream",
     "text": [
      "Prvih 5 redova podataka:\n",
      "   ID Narudzbe       Datum Prodavaonica Proizvod  Kolicina Prodana  \\\n",
      "0            1  2025-10-15            A   Jabuka             100.0   \n",
      "1            2  2025-10-15            A   Banana             150.0   \n",
      "2            3  2025-10-16            B   Jabuka              80.0   \n",
      "3            4  2025-10-16            B   Banana               NaN   \n",
      "4            5  2025-10-17            A  Naran?a             120.0   \n",
      "\n",
      "   Cijena Po Komadu (EUR) Promocija  Ocjena Kupca  \n",
      "0                    0.50        Da           5.0  \n",
      "1                    0.30        Ne           4.0  \n",
      "2                    0.55       NaN           3.0  \n",
      "3                    0.35        Ne           NaN  \n",
      "4                    0.60        Da           5.0  \n"
     ]
    }
   ],
   "source": [
    "# Prikaz prvih 5 redova - bolji od print(data) za velike fileove\n",
    "print(\"Prvih 5 redova podataka:\")\n",
    "print(data.head())"
   ]
  },
  {
   "cell_type": "code",
   "execution_count": 14,
   "id": "ae79fc0d-c386-4195-bddb-aa57b4519755",
   "metadata": {},
   "outputs": [
    {
     "name": "stdout",
     "output_type": "stream",
     "text": [
      "\n",
      "Osnovne informacije o stupcima i tipovima podataka:\n",
      "<class 'pandas.core.frame.DataFrame'>\n",
      "RangeIndex: 8 entries, 0 to 7\n",
      "Data columns (total 8 columns):\n",
      " #   Column                  Non-Null Count  Dtype  \n",
      "---  ------                  --------------  -----  \n",
      " 0   ID Narudzbe             8 non-null      int64  \n",
      " 1   Datum                   8 non-null      object \n",
      " 2   Prodavaonica            8 non-null      object \n",
      " 3   Proizvod                8 non-null      object \n",
      " 4   Kolicina Prodana        7 non-null      float64\n",
      " 5   Cijena Po Komadu (EUR)  7 non-null      float64\n",
      " 6   Promocija               7 non-null      object \n",
      " 7   Ocjena Kupca            6 non-null      float64\n",
      "dtypes: float64(3), int64(1), object(4)\n",
      "memory usage: 644.0+ bytes\n",
      "None\n"
     ]
    }
   ],
   "source": [
    "# Prikaz osnovnih informacija o DataFrame-u\n",
    "print(\"\\nOsnovne informacije o stupcima i tipovima podataka:\")\n",
    "print(data.info())\n",
    "# Naglasak: \"Obratite pažnju na 'Non-Null Count'. Vidimo da neki stupci\n",
    "# imaju manje od 8 vrijednosti, što znači da imamo nedostajuće podatke!\""
   ]
  },
  {
   "cell_type": "code",
   "execution_count": 16,
   "id": "b4406b10-a271-4f75-b5da-cd6024bd657c",
   "metadata": {},
   "outputs": [
    {
     "name": "stdout",
     "output_type": "stream",
     "text": [
      "\n",
      "Osnovne statistike (prosjek, min, max...):\n",
      "       ID Narudzbe  Kolicina Prodana  Cijena Po Komadu (EUR)  Ocjena Kupca\n",
      "count      8.00000          7.000000                7.000000      6.000000\n",
      "mean       4.50000        125.000000                0.447143      3.833333\n",
      "std        2.44949         40.517486                0.114268      1.169045\n",
      "min        1.00000         80.000000                0.300000      2.000000\n",
      "25%        2.75000         97.500000                0.350000      3.250000\n",
      "50%        4.50000        120.000000                0.480000      4.000000\n",
      "75%        6.25000        140.000000                0.525000      4.750000\n",
      "max        8.00000        200.000000                0.600000      5.000000\n"
     ]
    }
   ],
   "source": [
    "# Prikaz osnovnih statistika za numeričke stupce\n",
    "print(\"\\nOsnovne statistike (prosjek, min, max...):\")\n",
    "print(data.describe())\n",
    "# Naglasak: \"Ovo nam odmah daje osjećaj za raspone vrijednosti.\n",
    "# Npr. prosječna prodana količina je...\""
   ]
  },
  {
   "cell_type": "markdown",
   "id": "8779a5ec-e8c1-466b-b1ac-687147a70632",
   "metadata": {},
   "source": [
    "# =============================================================================\n",
    "# KORAK 3: ČIŠĆENJE I PRIPREMA PODATAKA (Data Cleaning & Preprocessing)\n",
    "# =============================================================================\n",
    "# Objašnjenje: \"Sada slijedi najvažniji dio posla, koji oduzima i do 80% vremena\n",
    "# u stvarnim projektima - čišćenje podataka. Naš set ima nedostajuće vrijednosti.\""
   ]
  },
  {
   "cell_type": "code",
   "execution_count": 36,
   "id": "a3c66c61-00b4-49fa-ae33-efd6ab1191ae",
   "metadata": {},
   "outputs": [],
   "source": [
    "# Rješavanje nedostajućih vrijednosti\n",
    "# Za kategoričke varijable (Promocija), popunimo s najčešćom vrijednosti ili 'Nepoznato'\n",
    "data['Promocija'] = data['Promocija'].fillna('Ne')\n",
    "# Objašnjenje: \"Ako ne znamo je li bila promocija, najsigurnije je pretpostaviti da nije.\""
   ]
  },
  {
   "cell_type": "code",
   "execution_count": 21,
   "id": "211e20b6-0fec-4517-a779-2db4b00a8356",
   "metadata": {},
   "outputs": [
    {
     "name": "stderr",
     "output_type": "stream",
     "text": [
      "C:\\Users\\abhothoh\\AppData\\Local\\Temp\\ipykernel_26572\\1501909619.py:3: FutureWarning: A value is trying to be set on a copy of a DataFrame or Series through chained assignment using an inplace method.\n",
      "The behavior will change in pandas 3.0. This inplace method will never work because the intermediate object on which we are setting values always behaves as a copy.\n",
      "\n",
      "For example, when doing 'df[col].method(value, inplace=True)', try using 'df.method({col: value}, inplace=True)' or df[col] = df[col].method(value) instead, to perform the operation inplace on the original object.\n",
      "\n",
      "\n",
      "  data['Kolicina Prodana'].fillna(prosjecna_kolicina, inplace=True)\n"
     ]
    }
   ],
   "source": [
    "# Za numeričke varijable, popunimo s prosjekom ili medijanom stupca\n",
    "prosjecna_kolicina = data['Kolicina Prodana'].mean()\n",
    "data['Kolicina Prodana'].fillna(prosjecna_kolicina, inplace=True)\n",
    "# Objašnjenje: \"Nedostajuću količinu ćemo zamijeniti s prosječnom prodanom količinom\n",
    "# svih ostalih proizvoda. To je česta praksa.\"\n"
   ]
  },
  {
   "cell_type": "code",
   "execution_count": 23,
   "id": "031c61d5-6844-4641-9056-d1b6b6b29965",
   "metadata": {},
   "outputs": [],
   "source": [
    "# Možemo i obrisati redove gdje ključne informacije nedostaju (npr. cijena)\n",
    "data.dropna(subset=['Cijena Po Komadu (EUR)'], inplace=True)\n",
    "# Objašnjenje: \"Ako nemamo cijenu, taj red nam je beskoristan za financijsku analizu, pa ga brišemo.\""
   ]
  },
  {
   "cell_type": "code",
   "execution_count": 25,
   "id": "b39de5ad-b212-41dc-8fea-952db26d9805",
   "metadata": {},
   "outputs": [
    {
     "name": "stdout",
     "output_type": "stream",
     "text": [
      "\n",
      "Informacije nakon čišćenja podataka:\n",
      "<class 'pandas.core.frame.DataFrame'>\n",
      "Index: 7 entries, 0 to 6\n",
      "Data columns (total 8 columns):\n",
      " #   Column                  Non-Null Count  Dtype  \n",
      "---  ------                  --------------  -----  \n",
      " 0   ID Narudzbe             7 non-null      int64  \n",
      " 1   Datum                   7 non-null      object \n",
      " 2   Prodavaonica            7 non-null      object \n",
      " 3   Proizvod                7 non-null      object \n",
      " 4   Kolicina Prodana        7 non-null      float64\n",
      " 5   Cijena Po Komadu (EUR)  7 non-null      float64\n",
      " 6   Promocija               7 non-null      object \n",
      " 7   Ocjena Kupca            6 non-null      float64\n",
      "dtypes: float64(3), int64(1), object(4)\n",
      "memory usage: 504.0+ bytes\n",
      "None\n"
     ]
    }
   ],
   "source": [
    "# Provjera nakon čišćenja\n",
    "print(\"\\nInformacije nakon čišćenja podataka:\")\n",
    "print(data.info())\n",
    "# Naglasak: \"Sada vidite da svi stupci imaju isti broj 'Non-Null' vrijednosti.\n",
    "# Naši podaci su sada 'čisti' i spremni za analizu.\""
   ]
  },
  {
   "cell_type": "markdown",
   "id": "2d6f67d0-5a95-48e3-a370-5ce7e1a023b6",
   "metadata": {},
   "source": [
    "# =============================================================================\n",
    "# KORAK 4: ANALIZA I VIZUALIZACIJA\n",
    "# =============================================================================\n",
    "# Objašnjenje: \"Sada kada imamo čiste podatke, možemo raditi ono zabavno -\n",
    "# postavljati pitanja i tražiti odgovore. Npr. 'Koji proizvod se najviše prodaje?'\""
   ]
  },
  {
   "cell_type": "code",
   "execution_count": 28,
   "id": "a66277d6-0d89-4821-a66d-f01072f006b2",
   "metadata": {},
   "outputs": [
    {
     "name": "stdout",
     "output_type": "stream",
     "text": [
      "\n",
      "Ukupna prodana količina po proizvodu:\n",
      "Proizvod\n",
      "Banana     370.0\n",
      "Jabuka     380.0\n",
      "Naran?a    120.0\n",
      "Name: Kolicina Prodana, dtype: float64\n"
     ]
    }
   ],
   "source": [
    "# GRUPIRANJE PODATAKA - moćna funkcionalnost pandasa\n",
    "ukupna_prodaja_po_proizvodu = data.groupby('Proizvod')['Kolicina Prodana'].sum()\n",
    "print(\"\\nUkupna prodana količina po proizvodu:\")\n",
    "print(ukupna_prodaja_po_proizvodu)"
   ]
  },
  {
   "cell_type": "code",
   "execution_count": 30,
   "id": "089d7209-84a4-4af0-8481-b26a0766b4b3",
   "metadata": {},
   "outputs": [],
   "source": [
    "# VIZUALIZACIJA - sada koristimo matplotlib\n",
    "import matplotlib.pyplot as plt"
   ]
  },
  {
   "cell_type": "code",
   "execution_count": 32,
   "id": "793d0eef-6f02-4c39-b131-1e6d03694c5e",
   "metadata": {},
   "outputs": [
    {
     "data": {
      "image/png": "[encoded data removed]",
      "text/plain": [
       "<Figure size 640x480 with 1 Axes>"
      ]
     },
     "metadata": {},
     "output_type": "display_data"
    }
   ],
   "source": [
    "# Stupčasti grafikon (Bar chart) - bolji za usporedbu kategorija\n",
    "ukupna_prodaja_po_proizvodu.plot(kind='bar', color=['orange', 'yellow', 'red'])\n",
    "plt.title('Ukupna prodaja po proizvodu')\n",
    "plt.xlabel('Proizvod')\n",
    "plt.ylabel('Ukupna prodana količina')\n",
    "plt.xticks(rotation=0) # Da imena proizvoda ne budu ukošena\n",
    "plt.show()"
   ]
  },
  {
   "cell_type": "code",
   "execution_count": 34,
   "id": "a2c8c317-2857-4adf-891c-6333f4b39fed",
   "metadata": {},
   "outputs": [
    {
     "data": {
      "image/png": "[encoded data removed]",
      "text/plain": [
       "<Figure size 640x480 with 1 Axes>"
      ]
     },
     "metadata": {},
     "output_type": "display_data"
    }
   ],
   "source": [
    "# Histogram kao u vašem originalnom primjeru, ali na čistim podacima\n",
    "data['Kolicina Prodana'].hist(bins=5)\n",
    "plt.title('Distribucija prodanih količina')\n",
    "plt.xlabel('Prodana kolicina u narudžbi')\n",
    "plt.ylabel('Frekvencija (broj narudžbi)')\n",
    "plt.show()"
   ]
  },
  {
   "cell_type": "code",
   "execution_count": null,
   "id": "93ca8773-a1d1-474b-9f1d-3228bf7e6cf7",
   "metadata": {},
   "outputs": [],
   "source": []
  }
 ],
 "metadata": {
  "kernelspec": {
   "display_name": "Python [conda env:base] *",
   "language": "python",
   "name": "conda-base-py"
  },
  "language_info": {
   "codemirror_mode": {
    "name": "ipython",
    "version": 3
   },
   "file_extension": ".py",
   "mimetype": "text/x-python",
   "name": "python",
   "nbconvert_exporter": "python",
   "pygments_lexer": "ipython3",
   "version": "3.12.7"
  }
 },
 "nbformat": 4,
 "nbformat_minor": 5
}
