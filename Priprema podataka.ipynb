{
 "cells": [
  {
   "cell_type": "code",
   "execution_count": 1,
   "id": "e41eaab4-f7f6-4397-8299-43ea572d523e",
   "metadata": {},
   "outputs": [],
   "source": [
    "import pandas as pd"
   ]
  },
  {
   "cell_type": "code",
   "execution_count": 5,
   "id": "d861e95b-f54d-4c0d-8f0c-60d53744c67f",
   "metadata": {},
   "outputs": [],
   "source": [
    "df = pd.read_csv('C:/Users/Korisnik/Downloads/Global inflation/WLD_RTFP_country_2023-10-02.csv')"
   ]
  },
  {
   "cell_type": "code",
   "execution_count": 7,
   "id": "df8130b6-b7d0-4a16-bcb6-217a8f042c72",
   "metadata": {},
   "outputs": [
    {
     "name": "stdout",
     "output_type": "stream",
     "text": [
      "      Open  High   Low  Close  Inflation      country ISO3        date\n",
      "0     0.53  0.54  0.53   0.53        NaN  Afghanistan  AFG  2007-01-01\n",
      "1     0.53  0.54  0.53   0.53        NaN  Afghanistan  AFG  2007-02-01\n",
      "2     0.54  0.54  0.53   0.53        NaN  Afghanistan  AFG  2007-03-01\n",
      "3     0.53  0.55  0.53   0.55        NaN  Afghanistan  AFG  2007-04-01\n",
      "4     0.56  0.57  0.56   0.57        NaN  Afghanistan  AFG  2007-05-01\n",
      "...    ...   ...   ...    ...        ...          ...  ...         ...\n",
      "4793  2.74  2.78  2.70   2.75      -0.28  Yemen, Rep.  YEM  2023-06-01\n",
      "4794  2.79  2.83  2.75   2.81      -1.85  Yemen, Rep.  YEM  2023-07-01\n",
      "4795  2.85  2.89  2.81   2.83      -3.17  Yemen, Rep.  YEM  2023-08-01\n",
      "4796  2.86  2.97  2.82   2.97       1.68  Yemen, Rep.  YEM  2023-09-01\n",
      "4797  3.06  3.11  2.98   2.98       3.76  Yemen, Rep.  YEM  2023-10-01\n",
      "\n",
      "[4798 rows x 8 columns]\n"
     ]
    }
   ],
   "source": [
    "print(df)"
   ]
  },
  {
   "cell_type": "code",
   "execution_count": 9,
   "id": "8c0f55af-104e-4c92-a053-fc51cef9f4af",
   "metadata": {},
   "outputs": [
    {
     "data": {
      "text/html": [
       "<div>\n",
       "<style scoped>\n",
       "    .dataframe tbody tr th:only-of-type {\n",
       "        vertical-align: middle;\n",
       "    }\n",
       "\n",
       "    .dataframe tbody tr th {\n",
       "        vertical-align: top;\n",
       "    }\n",
       "\n",
       "    .dataframe thead th {\n",
       "        text-align: right;\n",
       "    }\n",
       "</style>\n",
       "<table border=\"1\" class=\"dataframe\">\n",
       "  <thead>\n",
       "    <tr style=\"text-align: right;\">\n",
       "      <th></th>\n",
       "      <th>Open</th>\n",
       "      <th>High</th>\n",
       "      <th>Low</th>\n",
       "      <th>Close</th>\n",
       "      <th>Inflation</th>\n",
       "      <th>country</th>\n",
       "      <th>ISO3</th>\n",
       "      <th>date</th>\n",
       "    </tr>\n",
       "  </thead>\n",
       "  <tbody>\n",
       "    <tr>\n",
       "      <th>0</th>\n",
       "      <td>0.53</td>\n",
       "      <td>0.54</td>\n",
       "      <td>0.53</td>\n",
       "      <td>0.53</td>\n",
       "      <td>NaN</td>\n",
       "      <td>Afghanistan</td>\n",
       "      <td>AFG</td>\n",
       "      <td>2007-01-01</td>\n",
       "    </tr>\n",
       "    <tr>\n",
       "      <th>1</th>\n",
       "      <td>0.53</td>\n",
       "      <td>0.54</td>\n",
       "      <td>0.53</td>\n",
       "      <td>0.53</td>\n",
       "      <td>NaN</td>\n",
       "      <td>Afghanistan</td>\n",
       "      <td>AFG</td>\n",
       "      <td>2007-02-01</td>\n",
       "    </tr>\n",
       "    <tr>\n",
       "      <th>2</th>\n",
       "      <td>0.54</td>\n",
       "      <td>0.54</td>\n",
       "      <td>0.53</td>\n",
       "      <td>0.53</td>\n",
       "      <td>NaN</td>\n",
       "      <td>Afghanistan</td>\n",
       "      <td>AFG</td>\n",
       "      <td>2007-03-01</td>\n",
       "    </tr>\n",
       "    <tr>\n",
       "      <th>3</th>\n",
       "      <td>0.53</td>\n",
       "      <td>0.55</td>\n",
       "      <td>0.53</td>\n",
       "      <td>0.55</td>\n",
       "      <td>NaN</td>\n",
       "      <td>Afghanistan</td>\n",
       "      <td>AFG</td>\n",
       "      <td>2007-04-01</td>\n",
       "    </tr>\n",
       "    <tr>\n",
       "      <th>4</th>\n",
       "      <td>0.56</td>\n",
       "      <td>0.57</td>\n",
       "      <td>0.56</td>\n",
       "      <td>0.57</td>\n",
       "      <td>NaN</td>\n",
       "      <td>Afghanistan</td>\n",
       "      <td>AFG</td>\n",
       "      <td>2007-05-01</td>\n",
       "    </tr>\n",
       "  </tbody>\n",
       "</table>\n",
       "</div>"
      ],
      "text/plain": [
       "   Open  High   Low  Close  Inflation      country ISO3        date\n",
       "0  0.53  0.54  0.53   0.53        NaN  Afghanistan  AFG  2007-01-01\n",
       "1  0.53  0.54  0.53   0.53        NaN  Afghanistan  AFG  2007-02-01\n",
       "2  0.54  0.54  0.53   0.53        NaN  Afghanistan  AFG  2007-03-01\n",
       "3  0.53  0.55  0.53   0.55        NaN  Afghanistan  AFG  2007-04-01\n",
       "4  0.56  0.57  0.56   0.57        NaN  Afghanistan  AFG  2007-05-01"
      ]
     },
     "execution_count": 9,
     "metadata": {},
     "output_type": "execute_result"
    }
   ],
   "source": [
    "df.head()"
   ]
  },
  {
   "cell_type": "code",
   "execution_count": 79,
   "id": "dc6f70f5-e0be-40ad-aea7-e69ef924061e",
   "metadata": {},
   "outputs": [],
   "source": [
    "df_cleaned = df.dropna(how='any') # Uklanja sve redove iz DataFrame-a 'df' koji sadrže barem jednu NaN (nedostajuću) vrijednost"
   ]
  },
  {
   "cell_type": "code",
   "execution_count": 45,
   "id": "63422ad1-d26b-4b4e-8cbb-3c993faa9294",
   "metadata": {},
   "outputs": [
    {
     "name": "stdout",
     "output_type": "stream",
     "text": [
      "      Open  High   Low  Close  Inflation      country ISO3        date\n",
      "12    0.74  0.75  0.73   0.75      41.18  Afghanistan  AFG  2008-01-01\n",
      "13    0.78  0.79  0.77   0.77      44.45  Afghanistan  AFG  2008-02-01\n",
      "14    0.79  0.82  0.78   0.82      53.62  Afghanistan  AFG  2008-03-01\n",
      "15    0.85  0.92  0.84   0.92      66.52  Afghanistan  AFG  2008-04-01\n",
      "16    0.96  1.02  0.94   1.02      77.51  Afghanistan  AFG  2008-05-01\n",
      "...    ...   ...   ...    ...        ...          ...  ...         ...\n",
      "4793  2.74  2.78  2.70   2.75      -0.28  Yemen, Rep.  YEM  2023-06-01\n",
      "4794  2.79  2.83  2.75   2.81      -1.85  Yemen, Rep.  YEM  2023-07-01\n",
      "4795  2.85  2.89  2.81   2.83      -3.17  Yemen, Rep.  YEM  2023-08-01\n",
      "4796  2.86  2.97  2.82   2.97       1.68  Yemen, Rep.  YEM  2023-09-01\n",
      "4797  3.06  3.11  2.98   2.98       3.76  Yemen, Rep.  YEM  2023-10-01\n",
      "\n",
      "[4434 rows x 8 columns]\n"
     ]
    }
   ],
   "source": [
    "print(df_cleaned)"
   ]
  },
  {
   "cell_type": "code",
   "execution_count": 47,
   "id": "e518c993-1762-44cd-900c-69e0ae9a0827",
   "metadata": {},
   "outputs": [],
   "source": [
    "df_cleaned.columns = ['otvorena_cijena','najvisa_cijena','najniza_cijena','zatvorena_cijena','inflacija','drzava','kod','datum']"
   ]
  },
  {
   "cell_type": "code",
   "execution_count": 49,
   "id": "85779b4f-da79-4c84-bcdb-3bb7afbd3e2b",
   "metadata": {},
   "outputs": [
    {
     "name": "stdout",
     "output_type": "stream",
     "text": [
      "      otvorena_cijena  najvisa_cijena  najniza_cijena  zatvorena_cijena  \\\n",
      "12               0.74            0.75            0.73              0.75   \n",
      "13               0.78            0.79            0.77              0.77   \n",
      "14               0.79            0.82            0.78              0.82   \n",
      "15               0.85            0.92            0.84              0.92   \n",
      "16               0.96            1.02            0.94              1.02   \n",
      "...               ...             ...             ...               ...   \n",
      "4793             2.74            2.78            2.70              2.75   \n",
      "4794             2.79            2.83            2.75              2.81   \n",
      "4795             2.85            2.89            2.81              2.83   \n",
      "4796             2.86            2.97            2.82              2.97   \n",
      "4797             3.06            3.11            2.98              2.98   \n",
      "\n",
      "      inflacija       drzava  kod       datum  \n",
      "12        41.18  Afghanistan  AFG  2008-01-01  \n",
      "13        44.45  Afghanistan  AFG  2008-02-01  \n",
      "14        53.62  Afghanistan  AFG  2008-03-01  \n",
      "15        66.52  Afghanistan  AFG  2008-04-01  \n",
      "16        77.51  Afghanistan  AFG  2008-05-01  \n",
      "...         ...          ...  ...         ...  \n",
      "4793      -0.28  Yemen, Rep.  YEM  2023-06-01  \n",
      "4794      -1.85  Yemen, Rep.  YEM  2023-07-01  \n",
      "4795      -3.17  Yemen, Rep.  YEM  2023-08-01  \n",
      "4796       1.68  Yemen, Rep.  YEM  2023-09-01  \n",
      "4797       3.76  Yemen, Rep.  YEM  2023-10-01  \n",
      "\n",
      "[4434 rows x 8 columns]\n"
     ]
    }
   ],
   "source": [
    "print(df_cleaned)"
   ]
  },
  {
   "cell_type": "code",
   "execution_count": 51,
   "id": "e6e50c19-22d4-4ff9-8127-ed7b441a1569",
   "metadata": {},
   "outputs": [
    {
     "name": "stderr",
     "output_type": "stream",
     "text": [
      "C:\\Users\\Korisnik\\AppData\\Local\\Temp\\ipykernel_4484\\1901142309.py:1: SettingWithCopyWarning: \n",
      "A value is trying to be set on a copy of a slice from a DataFrame.\n",
      "Try using .loc[row_indexer,col_indexer] = value instead\n",
      "\n",
      "See the caveats in the documentation: https://pandas.pydata.org/pandas-docs/stable/user_guide/indexing.html#returning-a-view-versus-a-copy\n",
      "  df_cleaned['pozitivna_inflacija'] = df_cleaned['inflacija'].apply(lambda x: 'da' if x > 0 else 'ne')\n"
     ]
    }
   ],
   "source": [
    "df_cleaned['pozitivna_inflacija'] = df_cleaned['inflacija'].apply(lambda x: 'da' if x > 0 else 'ne') # Dodaje novi stupac 'pozitivna_inflacija' koji sadrži 'da' ako je vrijednost u stupcu 'inflacija' veća od 0, inače 'ne'"
   ]
  },
  {
   "cell_type": "code",
   "execution_count": 53,
   "id": "483cf170-49d6-4396-855d-548325f72a58",
   "metadata": {},
   "outputs": [
    {
     "name": "stdout",
     "output_type": "stream",
     "text": [
      "      otvorena_cijena  najvisa_cijena  najniza_cijena  zatvorena_cijena  \\\n",
      "12               0.74            0.75            0.73              0.75   \n",
      "13               0.78            0.79            0.77              0.77   \n",
      "14               0.79            0.82            0.78              0.82   \n",
      "15               0.85            0.92            0.84              0.92   \n",
      "16               0.96            1.02            0.94              1.02   \n",
      "...               ...             ...             ...               ...   \n",
      "4793             2.74            2.78            2.70              2.75   \n",
      "4794             2.79            2.83            2.75              2.81   \n",
      "4795             2.85            2.89            2.81              2.83   \n",
      "4796             2.86            2.97            2.82              2.97   \n",
      "4797             3.06            3.11            2.98              2.98   \n",
      "\n",
      "      inflacija       drzava  kod       datum pozitivna_inflacija  \n",
      "12        41.18  Afghanistan  AFG  2008-01-01                  da  \n",
      "13        44.45  Afghanistan  AFG  2008-02-01                  da  \n",
      "14        53.62  Afghanistan  AFG  2008-03-01                  da  \n",
      "15        66.52  Afghanistan  AFG  2008-04-01                  da  \n",
      "16        77.51  Afghanistan  AFG  2008-05-01                  da  \n",
      "...         ...          ...  ...         ...                 ...  \n",
      "4793      -0.28  Yemen, Rep.  YEM  2023-06-01                  ne  \n",
      "4794      -1.85  Yemen, Rep.  YEM  2023-07-01                  ne  \n",
      "4795      -3.17  Yemen, Rep.  YEM  2023-08-01                  ne  \n",
      "4796       1.68  Yemen, Rep.  YEM  2023-09-01                  da  \n",
      "4797       3.76  Yemen, Rep.  YEM  2023-10-01                  da  \n",
      "\n",
      "[4434 rows x 9 columns]\n"
     ]
    }
   ],
   "source": [
    "print(df_cleaned) #Ispisuje cijeli sadržaj DataFrame-a 'df_cleaned' u konzolu"
   ]
  },
  {
   "cell_type": "code",
   "execution_count": 55,
   "id": "2170596e-ec6a-444f-8fd9-e08097094fc8",
   "metadata": {},
   "outputs": [
    {
     "name": "stdout",
     "output_type": "stream",
     "text": [
      "<class 'pandas.core.frame.DataFrame'>\n",
      "Index: 4434 entries, 12 to 4797\n",
      "Data columns (total 9 columns):\n",
      " #   Column               Non-Null Count  Dtype  \n",
      "---  ------               --------------  -----  \n",
      " 0   otvorena_cijena      4434 non-null   float64\n",
      " 1   najvisa_cijena       4434 non-null   float64\n",
      " 2   najniza_cijena       4434 non-null   float64\n",
      " 3   zatvorena_cijena     4434 non-null   float64\n",
      " 4   inflacija            4434 non-null   float64\n",
      " 5   drzava               4434 non-null   object \n",
      " 6   kod                  4434 non-null   object \n",
      " 7   datum                4434 non-null   object \n",
      " 8   pozitivna_inflacija  4434 non-null   object \n",
      "dtypes: float64(5), object(4)\n",
      "memory usage: 346.4+ KB\n"
     ]
    }
   ],
   "source": [
    "df_cleaned.info() # Prikazuje sažetu informaciju o DataFrame-u 'df_cleaned', uključujući broj ne-null vrijednosti i tipove podataka"
   ]
  },
  {
   "cell_type": "code",
   "execution_count": 57,
   "id": "5e1b55a5-7464-423f-a85a-790aea94058b",
   "metadata": {},
   "outputs": [
    {
     "name": "stderr",
     "output_type": "stream",
     "text": [
      "C:\\Users\\Korisnik\\AppData\\Local\\Temp\\ipykernel_4484\\561804195.py:1: SettingWithCopyWarning: \n",
      "A value is trying to be set on a copy of a slice from a DataFrame.\n",
      "Try using .loc[row_indexer,col_indexer] = value instead\n",
      "\n",
      "See the caveats in the documentation: https://pandas.pydata.org/pandas-docs/stable/user_guide/indexing.html#returning-a-view-versus-a-copy\n",
      "  df_cleaned['datum'] = pd.to_datetime(df_cleaned['datum'], format= '%Y-%m-%d')\n"
     ]
    }
   ],
   "source": [
    "df_cleaned['datum'] = pd.to_datetime(df_cleaned['datum'], format= '%Y-%m-%d') # Pretvara vrijednosti u stupcu 'datum' u datetime objekte koristeći format 'yyyy-mm-dd'"
   ]
  },
  {
   "cell_type": "code",
   "execution_count": 59,
   "id": "2f27e4ff-b9ca-4760-b204-b8f9f54e1f82",
   "metadata": {},
   "outputs": [
    {
     "name": "stdout",
     "output_type": "stream",
     "text": [
      "      otvorena_cijena  najvisa_cijena  najniza_cijena  zatvorena_cijena  \\\n",
      "12               0.74            0.75            0.73              0.75   \n",
      "13               0.78            0.79            0.77              0.77   \n",
      "14               0.79            0.82            0.78              0.82   \n",
      "15               0.85            0.92            0.84              0.92   \n",
      "16               0.96            1.02            0.94              1.02   \n",
      "...               ...             ...             ...               ...   \n",
      "4793             2.74            2.78            2.70              2.75   \n",
      "4794             2.79            2.83            2.75              2.81   \n",
      "4795             2.85            2.89            2.81              2.83   \n",
      "4796             2.86            2.97            2.82              2.97   \n",
      "4797             3.06            3.11            2.98              2.98   \n",
      "\n",
      "      inflacija       drzava  kod      datum pozitivna_inflacija  \n",
      "12        41.18  Afghanistan  AFG 2008-01-01                  da  \n",
      "13        44.45  Afghanistan  AFG 2008-02-01                  da  \n",
      "14        53.62  Afghanistan  AFG 2008-03-01                  da  \n",
      "15        66.52  Afghanistan  AFG 2008-04-01                  da  \n",
      "16        77.51  Afghanistan  AFG 2008-05-01                  da  \n",
      "...         ...          ...  ...        ...                 ...  \n",
      "4793      -0.28  Yemen, Rep.  YEM 2023-06-01                  ne  \n",
      "4794      -1.85  Yemen, Rep.  YEM 2023-07-01                  ne  \n",
      "4795      -3.17  Yemen, Rep.  YEM 2023-08-01                  ne  \n",
      "4796       1.68  Yemen, Rep.  YEM 2023-09-01                  da  \n",
      "4797       3.76  Yemen, Rep.  YEM 2023-10-01                  da  \n",
      "\n",
      "[4434 rows x 9 columns]\n"
     ]
    }
   ],
   "source": [
    "print(df_cleaned) # Ispisuje cijeli sadržaj DataFrame-a 'df_cleaned' u konzolu"
   ]
  },
  {
   "cell_type": "code",
   "execution_count": 61,
   "id": "b912c18c-93d6-48da-bf4e-e800479ca7e3",
   "metadata": {},
   "outputs": [
    {
     "name": "stdout",
     "output_type": "stream",
     "text": [
      "<class 'pandas.core.frame.DataFrame'>\n",
      "Index: 4434 entries, 12 to 4797\n",
      "Data columns (total 9 columns):\n",
      " #   Column               Non-Null Count  Dtype         \n",
      "---  ------               --------------  -----         \n",
      " 0   otvorena_cijena      4434 non-null   float64       \n",
      " 1   najvisa_cijena       4434 non-null   float64       \n",
      " 2   najniza_cijena       4434 non-null   float64       \n",
      " 3   zatvorena_cijena     4434 non-null   float64       \n",
      " 4   inflacija            4434 non-null   float64       \n",
      " 5   drzava               4434 non-null   object        \n",
      " 6   kod                  4434 non-null   object        \n",
      " 7   datum                4434 non-null   datetime64[ns]\n",
      " 8   pozitivna_inflacija  4434 non-null   object        \n",
      "dtypes: datetime64[ns](1), float64(5), object(3)\n",
      "memory usage: 346.4+ KB\n"
     ]
    }
   ],
   "source": [
    "df_cleaned.info() # Prikazuje sažetu informaciju o DataFrame-u 'df_cleaned', uključujući broj ne-null vrijednosti i tipove podataka"
   ]
  },
  {
   "cell_type": "code",
   "execution_count": 63,
   "id": "ad54594c-9b89-4af7-a7c3-261d219d253e",
   "metadata": {},
   "outputs": [
    {
     "name": "stderr",
     "output_type": "stream",
     "text": [
      "C:\\Users\\Korisnik\\AppData\\Local\\Temp\\ipykernel_4484\\1394134458.py:1: SettingWithCopyWarning: \n",
      "A value is trying to be set on a copy of a slice from a DataFrame.\n",
      "Try using .loc[row_indexer,col_indexer] = value instead\n",
      "\n",
      "See the caveats in the documentation: https://pandas.pydata.org/pandas-docs/stable/user_guide/indexing.html#returning-a-view-versus-a-copy\n",
      "  df_cleaned['datum'] = df_cleaned['datum'].dt.strftime('%d/%m/%Y')\n"
     ]
    }
   ],
   "source": [
    "df_cleaned['datum'] = df_cleaned['datum'].dt.strftime('%d/%m/%Y') # Pretvara vrijednosti u stupcu 'datum' u format stringa 'dd/mm/yyyy'"
   ]
  },
  {
   "cell_type": "code",
   "execution_count": 65,
   "id": "313bffb4-4fce-4f7f-b4ec-f0d48012cd7d",
   "metadata": {},
   "outputs": [
    {
     "name": "stdout",
     "output_type": "stream",
     "text": [
      "<class 'pandas.core.frame.DataFrame'>\n",
      "Index: 4434 entries, 12 to 4797\n",
      "Data columns (total 9 columns):\n",
      " #   Column               Non-Null Count  Dtype  \n",
      "---  ------               --------------  -----  \n",
      " 0   otvorena_cijena      4434 non-null   float64\n",
      " 1   najvisa_cijena       4434 non-null   float64\n",
      " 2   najniza_cijena       4434 non-null   float64\n",
      " 3   zatvorena_cijena     4434 non-null   float64\n",
      " 4   inflacija            4434 non-null   float64\n",
      " 5   drzava               4434 non-null   object \n",
      " 6   kod                  4434 non-null   object \n",
      " 7   datum                4434 non-null   object \n",
      " 8   pozitivna_inflacija  4434 non-null   object \n",
      "dtypes: float64(5), object(4)\n",
      "memory usage: 346.4+ KB\n"
     ]
    }
   ],
   "source": [
    "df_cleaned.info() # Prikazuje sažetu informaciju o DataFrame-u 'df_cleaned', uključujući broj ne-null vrijednosti i tipove podataka"
   ]
  },
  {
   "cell_type": "code",
   "execution_count": 67,
   "id": "40c2771a-1648-48b0-a9e7-1c7be21914c3",
   "metadata": {},
   "outputs": [
    {
     "name": "stdout",
     "output_type": "stream",
     "text": [
      "      otvorena_cijena  najvisa_cijena  najniza_cijena  zatvorena_cijena  \\\n",
      "12               0.74            0.75            0.73              0.75   \n",
      "13               0.78            0.79            0.77              0.77   \n",
      "14               0.79            0.82            0.78              0.82   \n",
      "15               0.85            0.92            0.84              0.92   \n",
      "16               0.96            1.02            0.94              1.02   \n",
      "...               ...             ...             ...               ...   \n",
      "4793             2.74            2.78            2.70              2.75   \n",
      "4794             2.79            2.83            2.75              2.81   \n",
      "4795             2.85            2.89            2.81              2.83   \n",
      "4796             2.86            2.97            2.82              2.97   \n",
      "4797             3.06            3.11            2.98              2.98   \n",
      "\n",
      "      inflacija       drzava  kod       datum pozitivna_inflacija  \n",
      "12        41.18  Afghanistan  AFG  01/01/2008                  da  \n",
      "13        44.45  Afghanistan  AFG  01/02/2008                  da  \n",
      "14        53.62  Afghanistan  AFG  01/03/2008                  da  \n",
      "15        66.52  Afghanistan  AFG  01/04/2008                  da  \n",
      "16        77.51  Afghanistan  AFG  01/05/2008                  da  \n",
      "...         ...          ...  ...         ...                 ...  \n",
      "4793      -0.28  Yemen, Rep.  YEM  01/06/2023                  ne  \n",
      "4794      -1.85  Yemen, Rep.  YEM  01/07/2023                  ne  \n",
      "4795      -3.17  Yemen, Rep.  YEM  01/08/2023                  ne  \n",
      "4796       1.68  Yemen, Rep.  YEM  01/09/2023                  da  \n",
      "4797       3.76  Yemen, Rep.  YEM  01/10/2023                  da  \n",
      "\n",
      "[4434 rows x 9 columns]\n"
     ]
    }
   ],
   "source": [
    "print(df_cleaned) #Ispisuje cijeli sadržaj DataFrame-a 'df_cleaned' u konzolu"
   ]
  },
  {
   "cell_type": "code",
   "execution_count": 69,
   "id": "6c24c4c0-c595-445b-883a-73c94d8f4706",
   "metadata": {},
   "outputs": [
    {
     "name": "stderr",
     "output_type": "stream",
     "text": [
      "C:\\Users\\Korisnik\\AppData\\Local\\Temp\\ipykernel_4484\\1895194325.py:1: SettingWithCopyWarning: \n",
      "A value is trying to be set on a copy of a slice from a DataFrame\n",
      "\n",
      "See the caveats in the documentation: https://pandas.pydata.org/pandas-docs/stable/user_guide/indexing.html#returning-a-view-versus-a-copy\n",
      "  df_cleaned.drop(columns=['kod'], inplace=True)\n"
     ]
    }
   ],
   "source": [
    "df_cleaned.drop(columns=['kod'], inplace=True) # Uklanja stupac 'kod' iz DataFrame-a 'df_cleaned' i trajno mijenja originalni DataFrame"
   ]
  },
  {
   "cell_type": "code",
   "execution_count": 71,
   "id": "a43b2c5b-abc1-4601-af74-20faa8c96c79",
   "metadata": {},
   "outputs": [
    {
     "name": "stdout",
     "output_type": "stream",
     "text": [
      "      otvorena_cijena  najvisa_cijena  najniza_cijena  zatvorena_cijena  \\\n",
      "12               0.74            0.75            0.73              0.75   \n",
      "13               0.78            0.79            0.77              0.77   \n",
      "14               0.79            0.82            0.78              0.82   \n",
      "15               0.85            0.92            0.84              0.92   \n",
      "16               0.96            1.02            0.94              1.02   \n",
      "...               ...             ...             ...               ...   \n",
      "4793             2.74            2.78            2.70              2.75   \n",
      "4794             2.79            2.83            2.75              2.81   \n",
      "4795             2.85            2.89            2.81              2.83   \n",
      "4796             2.86            2.97            2.82              2.97   \n",
      "4797             3.06            3.11            2.98              2.98   \n",
      "\n",
      "      inflacija       drzava       datum pozitivna_inflacija  \n",
      "12        41.18  Afghanistan  01/01/2008                  da  \n",
      "13        44.45  Afghanistan  01/02/2008                  da  \n",
      "14        53.62  Afghanistan  01/03/2008                  da  \n",
      "15        66.52  Afghanistan  01/04/2008                  da  \n",
      "16        77.51  Afghanistan  01/05/2008                  da  \n",
      "...         ...          ...         ...                 ...  \n",
      "4793      -0.28  Yemen, Rep.  01/06/2023                  ne  \n",
      "4794      -1.85  Yemen, Rep.  01/07/2023                  ne  \n",
      "4795      -3.17  Yemen, Rep.  01/08/2023                  ne  \n",
      "4796       1.68  Yemen, Rep.  01/09/2023                  da  \n",
      "4797       3.76  Yemen, Rep.  01/10/2023                  da  \n",
      "\n",
      "[4434 rows x 8 columns]\n"
     ]
    }
   ],
   "source": [
    "print(df_cleaned) # Ispisuje cijeli sadržaj DataFrame-a 'df_cleaned' u konzolu"
   ]
  },
  {
   "cell_type": "code",
   "execution_count": 73,
   "id": "3b195037-e618-44a8-8c9a-bee789897011",
   "metadata": {},
   "outputs": [],
   "source": [
    "df_cleaned.to_csv('C:/Users/Korisnik/Downloads/Global inflation/cleaned_data.csv', index=False) #Sprema DataFrame 'df_cleaned' u CSV datoteku 'cleaned_data.csv' bez spremanja indeksa"
   ]
  },
  {
   "cell_type": "code",
   "execution_count": 75,
   "id": "c2c6b99b-2c91-4def-91df-89b30c9b5001",
   "metadata": {},
   "outputs": [],
   "source": [
    "df2 = pd.read_csv('C:/Users/Korisnik/Downloads/Global inflation/cleaned_data.csv') # Učitava podatke iz CSV datoteke 'cleaned_data.csv' u DataFrame 'df2'"
   ]
  },
  {
   "cell_type": "code",
   "execution_count": 77,
   "id": "a59c2d65-cf45-4304-97bb-4ac4afcf6a2b",
   "metadata": {},
   "outputs": [
    {
     "data": {
      "text/html": [
       "<div>\n",
       "<style scoped>\n",
       "    .dataframe tbody tr th:only-of-type {\n",
       "        vertical-align: middle;\n",
       "    }\n",
       "\n",
       "    .dataframe tbody tr th {\n",
       "        vertical-align: top;\n",
       "    }\n",
       "\n",
       "    .dataframe thead th {\n",
       "        text-align: right;\n",
       "    }\n",
       "</style>\n",
       "<table border=\"1\" class=\"dataframe\">\n",
       "  <thead>\n",
       "    <tr style=\"text-align: right;\">\n",
       "      <th></th>\n",
       "      <th>otvorena_cijena</th>\n",
       "      <th>najvisa_cijena</th>\n",
       "      <th>najniza_cijena</th>\n",
       "      <th>zatvorena_cijena</th>\n",
       "      <th>inflacija</th>\n",
       "      <th>drzava</th>\n",
       "      <th>datum</th>\n",
       "      <th>pozitivna_inflacija</th>\n",
       "    </tr>\n",
       "  </thead>\n",
       "  <tbody>\n",
       "    <tr>\n",
       "      <th>0</th>\n",
       "      <td>0.74</td>\n",
       "      <td>0.75</td>\n",
       "      <td>0.73</td>\n",
       "      <td>0.75</td>\n",
       "      <td>41.18</td>\n",
       "      <td>Afghanistan</td>\n",
       "      <td>01/01/2008</td>\n",
       "      <td>da</td>\n",
       "    </tr>\n",
       "    <tr>\n",
       "      <th>1</th>\n",
       "      <td>0.78</td>\n",
       "      <td>0.79</td>\n",
       "      <td>0.77</td>\n",
       "      <td>0.77</td>\n",
       "      <td>44.45</td>\n",
       "      <td>Afghanistan</td>\n",
       "      <td>01/02/2008</td>\n",
       "      <td>da</td>\n",
       "    </tr>\n",
       "    <tr>\n",
       "      <th>2</th>\n",
       "      <td>0.79</td>\n",
       "      <td>0.82</td>\n",
       "      <td>0.78</td>\n",
       "      <td>0.82</td>\n",
       "      <td>53.62</td>\n",
       "      <td>Afghanistan</td>\n",
       "      <td>01/03/2008</td>\n",
       "      <td>da</td>\n",
       "    </tr>\n",
       "    <tr>\n",
       "      <th>3</th>\n",
       "      <td>0.85</td>\n",
       "      <td>0.92</td>\n",
       "      <td>0.84</td>\n",
       "      <td>0.92</td>\n",
       "      <td>66.52</td>\n",
       "      <td>Afghanistan</td>\n",
       "      <td>01/04/2008</td>\n",
       "      <td>da</td>\n",
       "    </tr>\n",
       "    <tr>\n",
       "      <th>4</th>\n",
       "      <td>0.96</td>\n",
       "      <td>1.02</td>\n",
       "      <td>0.94</td>\n",
       "      <td>1.02</td>\n",
       "      <td>77.51</td>\n",
       "      <td>Afghanistan</td>\n",
       "      <td>01/05/2008</td>\n",
       "      <td>da</td>\n",
       "    </tr>\n",
       "  </tbody>\n",
       "</table>\n",
       "</div>"
      ],
      "text/plain": [
       "   otvorena_cijena  najvisa_cijena  najniza_cijena  zatvorena_cijena  \\\n",
       "0             0.74            0.75            0.73              0.75   \n",
       "1             0.78            0.79            0.77              0.77   \n",
       "2             0.79            0.82            0.78              0.82   \n",
       "3             0.85            0.92            0.84              0.92   \n",
       "4             0.96            1.02            0.94              1.02   \n",
       "\n",
       "   inflacija       drzava       datum pozitivna_inflacija  \n",
       "0      41.18  Afghanistan  01/01/2008                  da  \n",
       "1      44.45  Afghanistan  01/02/2008                  da  \n",
       "2      53.62  Afghanistan  01/03/2008                  da  \n",
       "3      66.52  Afghanistan  01/04/2008                  da  \n",
       "4      77.51  Afghanistan  01/05/2008                  da  "
      ]
     },
     "execution_count": 77,
     "metadata": {},
     "output_type": "execute_result"
    }
   ],
   "source": [
    "df2.head() # Prikazuje prvih 5 redova DataFrame-a 'df2'"
   ]
  },
  {
   "cell_type": "code",
   "execution_count": null,
   "id": "e7918edc-ec12-4ce4-9aa5-44c1178f2d28",
   "metadata": {},
   "outputs": [],
   "source": []
  }
 ],
 "metadata": {
  "kernelspec": {
   "display_name": "Python 3 (ipykernel)",
   "language": "python",
   "name": "python3"
  },
  "language_info": {
   "codemirror_mode": {
    "name": "ipython",
    "version": 3
   },
   "file_extension": ".py",
   "mimetype": "text/x-python",
   "name": "python",
   "nbconvert_exporter": "python",
   "pygments_lexer": "ipython3",
   "version": "3.12.4"
  }
 },
 "nbformat": 4,
 "nbformat_minor": 5
}
