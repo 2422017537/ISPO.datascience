{
 "cells": [
  {
   "cell_type": "markdown",
   "id": "8b7d8977-b787-44fc-a606-5e22ce9f378b",
   "metadata": {},
   "source": [
    "# Vježba 02: Primjena CRISP-DM metodologije u Pythonu\n",
    "# Faze: Business Understanding, Data Understanding, Data Preparation"
   ]
  },
  {
   "cell_type": "code",
   "execution_count": 2,
   "id": "5f5df9fe-6a75-4c26-81a7-8b7f800c41ee",
   "metadata": {},
   "outputs": [],
   "source": [
    "import pandas as pd\n",
    "import matplotlib.pyplot as plt"
   ]
  },
  {
   "cell_type": "markdown",
   "id": "26de6d60-9afc-4a0c-a141-182640d087f9",
   "metadata": {},
   "source": [
    "# FAZA 1: BUSINESS UNDERSTANDING (Razumijevanje Poslovanja)\n",
    "# CILJ: Razumjeti osnovne karakteristike prodaje u online trgovini.\n",
    "# POSLOVNA PITANJA:\n",
    "# 1. Koji proizvodi donose najviše prihoda?\n",
    "# 2. Iz koje države dolazi najviše prihoda?\n",
    "# 3. Postoji li dan u tjednu kada je prodaja značajno veća?\n",
    "#"
   ]
  },
  {
   "cell_type": "markdown",
   "id": "6ae5ceda-6152-4650-a729-9931f212807c",
   "metadata": {},
   "source": [
    "# FAZA 2: DATA UNDERSTANDING (Razumijevanje Podataka)"
   ]
  },
  {
   "cell_type": "code",
   "execution_count": 12,
   "id": "1650a7d8-1ebd-4d8e-b463-f22f635c8442",
   "metadata": {},
   "outputs": [],
   "source": [
    "data = pd.read_csv('C:/Users/abhothoh/Downloads/online_retail.csv')"
   ]
  },
  {
   "cell_type": "markdown",
   "id": "6fc4e244-90f3-47f3-b1d3-bdfab13bc789",
   "metadata": {},
   "source": [
    "# Istraživačka analiza podataka (Exploratory Data Analysis - EDA)"
   ]
  },
  {
   "cell_type": "code",
   "execution_count": 18,
   "id": "b4c0e848-08c3-42d3-b182-b84f2ddcbfe4",
   "metadata": {},
   "outputs": [
    {
     "name": "stdout",
     "output_type": "stream",
     "text": [
      "   OrderID            Date  CustomerID         Country       Product  \\\n",
      "0   536365  12/1/2024 8:26     17850.0  United Kingdom  White Hanger   \n",
      "1   536366  12/1/2024 8:28     17850.0  United Kingdom     Cream Cup   \n",
      "2   536367  12/1/2024 8:34         NaN          France   Alarm Clock   \n",
      "3   536368  12/1/2024 8:34     13047.0          France   Toy Soldier   \n",
      "4   536368  12/1/2024 8:34     13047.0          France   Toy Soldier   \n",
      "\n",
      "   Quantity  UnitPrice   Category  \n",
      "0         6       2.55  Household  \n",
      "1         2       1.85    Kitchen  \n",
      "2        -1       3.75      Decor  \n",
      "3         3       2.10       Toys  \n",
      "4         3       2.10       Toys  \n"
     ]
    }
   ],
   "source": [
    "print(data.head())"
   ]
  },
  {
   "cell_type": "code",
   "execution_count": 20,
   "id": "58656017-b58c-41e3-b4e7-b333c32f4a43",
   "metadata": {},
   "outputs": [
    {
     "name": "stdout",
     "output_type": "stream",
     "text": [
      "<class 'pandas.core.frame.DataFrame'>\n",
      "RangeIndex: 9 entries, 0 to 8\n",
      "Data columns (total 8 columns):\n",
      " #   Column      Non-Null Count  Dtype  \n",
      "---  ------      --------------  -----  \n",
      " 0   OrderID     9 non-null      int64  \n",
      " 1   Date        9 non-null      object \n",
      " 2   CustomerID  8 non-null      float64\n",
      " 3   Country     9 non-null      object \n",
      " 4   Product     9 non-null      object \n",
      " 5   Quantity    9 non-null      int64  \n",
      " 6   UnitPrice   9 non-null      float64\n",
      " 7   Category    8 non-null      object \n",
      "dtypes: float64(2), int64(2), object(4)\n",
      "memory usage: 708.0+ bytes\n"
     ]
    }
   ],
   "source": [
    "data.info()"
   ]
  },
  {
   "cell_type": "code",
   "execution_count": 22,
   "id": "11b048b2-94ee-4019-af30-0323535dd759",
   "metadata": {},
   "outputs": [
    {
     "name": "stdout",
     "output_type": "stream",
     "text": [
      "             OrderID    CustomerID   Quantity  UnitPrice\n",
      "count       9.000000      8.000000   9.000000   9.000000\n",
      "mean   536368.444444  14365.000000   3.111111   2.783333\n",
      "std         2.297341   2185.625899   3.756476   1.001873\n",
      "min    536365.000000  12583.000000  -2.000000   1.850000\n",
      "25%    536367.000000  13047.000000   1.000000   2.100000\n",
      "50%    536368.000000  13397.500000   3.000000   2.100000\n",
      "75%    536370.000000  14773.500000   6.000000   3.750000\n",
      "max    536372.000000  17850.000000  10.000000   4.250000\n"
     ]
    }
   ],
   "source": [
    "print(data.describe())"
   ]
  },
  {
   "cell_type": "code",
   "execution_count": 24,
   "id": "b66bbaea-e062-4a8a-8962-2f9f208474d8",
   "metadata": {},
   "outputs": [
    {
     "name": "stdout",
     "output_type": "stream",
     "text": [
      "\n",
      "Broj dupliciranih redova: 1\n"
     ]
    }
   ],
   "source": [
    "duplicated_rows = data.duplicated().sum()\n",
    "print(f\"\\nBroj dupliciranih redova: {duplicated_rows}\")"
   ]
  },
  {
   "cell_type": "markdown",
   "id": "a044cf1f-fc1b-4d82-aca4-1409c7f971b2",
   "metadata": {},
   "source": [
    "# FAZA 3: DATA PREPARATION (Priprema Podataka)"
   ]
  },
  {
   "cell_type": "code",
   "execution_count": 32,
   "id": "8e2aa629-dc9e-4067-9e33-30dd5aace52a",
   "metadata": {},
   "outputs": [
    {
     "name": "stdout",
     "output_type": "stream",
     "text": [
      "\n",
      "1. Duplicirani redovi su uklonjeni. Novi broj redova: 8\n"
     ]
    }
   ],
   "source": [
    "# 1. Uklanjanje duplikata\n",
    "# inplace=True vrši izmjenu direktno na 'data' DataFrame-u\n",
    "data.drop_duplicates(inplace=True)\n",
    "print(f\"\\n1. Duplicirani redovi su uklonjeni. Novi broj redova: {len(data)}\")"
   ]
  },
  {
   "cell_type": "code",
   "execution_count": 36,
   "id": "873fc256-ebd3-4ac6-b65b-d93cb3b06c34",
   "metadata": {},
   "outputs": [
    {
     "name": "stdout",
     "output_type": "stream",
     "text": [
      "2. Redovi s negativnom količinom su uklonjeni. Novi broj redova: 6\n"
     ]
    }
   ],
   "source": [
    "# 2. Rješavanje logičkih grešaka (npr. negativne količine)\n",
    "# Zadržavamo samo redove gdje je vrijednost u stupcu 'Quantity' veća od 0 \n",
    "data = data[data['Quantity'] > 0]\n",
    "print(f\"2. Redovi s negativnom količinom su uklonjeni. Novi broj redova: {len(data)}\")"
   ]
  },
  {
   "cell_type": "code",
   "execution_count": 38,
   "id": "9d8e685e-2ea5-4e8e-9e86-0fe12666d02b",
   "metadata": {},
   "outputs": [
    {
     "name": "stdout",
     "output_type": "stream",
     "text": [
      "3. Redovi s nedostajućim CustomerID ili Category su uklonjeni. Novi broj redova: 6\n"
     ]
    }
   ],
   "source": [
    "# 3. Rješavanje nedostajućih vrijednosti (Missing Values)\n",
    "# Za 'CustomerID' i 'Category' nemamo jednostavan način za popunjavanje,\n",
    "# pa ćemo za ovu analizu obrisati redove gdje te vrijednosti nedostaju.\n",
    "data.dropna(subset=['CustomerID', 'Category'], inplace=True)\n",
    "print(f\"3. Redovi s nedostajućim CustomerID ili Category su uklonjeni. Novi broj redova: {len(data)}\")"
   ]
  },
  {
   "cell_type": "code",
   "execution_count": 40,
   "id": "3fbc3647-7c0e-4216-9722-b35ed0647e1c",
   "metadata": {},
   "outputs": [
    {
     "name": "stdout",
     "output_type": "stream",
     "text": [
      "\n",
      "4. Tip podatka za stupac 'Date' je ispravljen u datetime.\n"
     ]
    }
   ],
   "source": [
    "# 4. Ispravljanje tipa podatka za datum\n",
    "# Pretvaramo 'object' tip u 'datetime' tip, što omogućuje analizu po vremenu.\n",
    "data['Date'] = pd.to_datetime(data['Date'])\n",
    "print(\"\\n4. Tip podatka za stupac 'Date' je ispravljen u datetime.\")"
   ]
  },
  {
   "cell_type": "code",
   "execution_count": 42,
   "id": "22c6d6fa-9438-4745-8db6-0ff587581b6b",
   "metadata": {},
   "outputs": [],
   "source": [
    "# --- Inženjering Značajki (Feature Engineering) ---\n",
    "# Kreiranje novih, korisnih stupaca iz postojećih podataka.\n",
    "# 1. Kreiranje stupca 'Revenue' (Prihod)\n",
    "data['Revenue'] = data['Quantity'] * data['UnitPrice']\n",
    "# 2. Kreiranje stupca 'DayOfWeek' (Dan u tjednu) iz datuma\n",
    "data['DayOfWeek'] = data['Date'].dt.day_name()"
   ]
  },
  {
   "cell_type": "code",
   "execution_count": 44,
   "id": "6cfccf61-8ef3-472d-b4d8-ac36a916caa7",
   "metadata": {},
   "outputs": [
    {
     "name": "stdout",
     "output_type": "stream",
     "text": [
      "   OrderID                Date  CustomerID         Country       Product  \\\n",
      "0   536365 2024-12-01 08:26:00     17850.0  United Kingdom  White Hanger   \n",
      "1   536366 2024-12-01 08:28:00     17850.0  United Kingdom     Cream Cup   \n",
      "3   536368 2024-12-01 08:34:00     13047.0          France   Toy Soldier   \n",
      "5   536369 2024-12-01 08:35:00     13047.0         Germany    Wooden Box   \n",
      "7   536371 2024-12-01 09:00:00     13748.0         Germany     Red Scarf   \n",
      "\n",
      "   Quantity  UnitPrice   Category  Revenue DayOfWeek  \n",
      "0         6       2.55  Household     15.3    Sunday  \n",
      "1         2       1.85    Kitchen      3.7    Sunday  \n",
      "3         3       2.10       Toys      6.3    Sunday  \n",
      "5         1       2.10      Decor      2.1    Sunday  \n",
      "7         6       4.25    Apparel     25.5    Sunday  \n"
     ]
    }
   ],
   "source": [
    "print(data.head())"
   ]
  },
  {
   "cell_type": "code",
   "execution_count": 46,
   "id": "5b2c5066-b130-4eb6-8513-5a4bdfe1f3f4",
   "metadata": {},
   "outputs": [
    {
     "name": "stdout",
     "output_type": "stream",
     "text": [
      "<class 'pandas.core.frame.DataFrame'>\n",
      "Index: 6 entries, 0 to 8\n",
      "Data columns (total 10 columns):\n",
      " #   Column      Non-Null Count  Dtype         \n",
      "---  ------      --------------  -----         \n",
      " 0   OrderID     6 non-null      int64         \n",
      " 1   Date        6 non-null      datetime64[ns]\n",
      " 2   CustomerID  6 non-null      float64       \n",
      " 3   Country     6 non-null      object        \n",
      " 4   Product     6 non-null      object        \n",
      " 5   Quantity    6 non-null      int64         \n",
      " 6   UnitPrice   6 non-null      float64       \n",
      " 7   Category    6 non-null      object        \n",
      " 8   Revenue     6 non-null      float64       \n",
      " 9   DayOfWeek   6 non-null      object        \n",
      "dtypes: datetime64[ns](1), float64(3), int64(2), object(4)\n",
      "memory usage: 528.0+ bytes\n"
     ]
    }
   ],
   "source": [
    "data.info()"
   ]
  },
  {
   "cell_type": "markdown",
   "id": "7ce24496-a8bf-428e-b177-9618e8364d91",
   "metadata": {},
   "source": [
    "# ANALIZA I VIZUALIZACIJA: Odgovaranje na poslovna pitanja"
   ]
  },
  {
   "cell_type": "code",
   "execution_count": 49,
   "id": "16b8dde2-d717-44f8-bfff-47c875d09062",
   "metadata": {},
   "outputs": [
    {
     "name": "stdout",
     "output_type": "stream",
     "text": [
      "\n",
      "--- Početak analize i odgovaranja na poslovna pitanja ---\n",
      "\n",
      "--- Top 5 proizvoda po prihodu ---\n",
      "Product\n",
      "Blue Scarf      42.5\n",
      "Red Scarf       25.5\n",
      "White Hanger    15.3\n",
      "Toy Soldier      6.3\n",
      "Cream Cup        3.7\n",
      "Name: Revenue, dtype: float64\n"
     ]
    }
   ],
   "source": [
    "print(\"\\n--- Početak analize i odgovaranja na poslovna pitanja ---\")\n",
    "# Pitanje 1: Koji proizvodi donose najviše prihoda?\n",
    "revenue_by_product = data.groupby('Product')['Revenue'].sum().sort_values(ascending=False).head(5)\n",
    "print(\"\\n--- Top 5 proizvoda po prihodu ---\")\n",
    "print(revenue_by_product)"
   ]
  },
  {
   "cell_type": "code",
   "execution_count": 51,
   "id": "521a1416-c1ab-4523-9683-3c4b2309ff8c",
   "metadata": {},
   "outputs": [
    {
     "data": {
      "image/png": "[encoded data removed]",
      "text/plain": [
       "<Figure size 640x480 with 1 Axes>"
      ]
     },
     "metadata": {},
     "output_type": "display_data"
    }
   ],
   "source": [
    "# Vizualizacija za Pitanje 1\n",
    "revenue_by_product.plot(kind='bar', color='skyblue')\n",
    "plt.title('Top 5 proizvoda po ukupnom prihodu')\n",
    "plt.xlabel('Proizvod')\n",
    "plt.ylabel('Ukupan prihod (EUR)')\n",
    "plt.xticks(rotation=45, ha='right')\n",
    "plt.tight_layout() # Osigurava da se labele ne preklapaju\n",
    "plt.show()"
   ]
  },
  {
   "cell_type": "code",
   "execution_count": null,
   "id": "c4d32b03-1165-4788-be6e-58e481ef7a2e",
   "metadata": {},
   "outputs": [],
   "source": []
  }
 ],
 "metadata": {
  "kernelspec": {
   "display_name": "Python [conda env:base] *",
   "language": "python",
   "name": "conda-base-py"
  },
  "language_info": {
   "codemirror_mode": {
    "name": "ipython",
    "version": 3
   },
   "file_extension": ".py",
   "mimetype": "text/x-python",
   "name": "python",
   "nbconvert_exporter": "python",
   "pygments_lexer": "ipython3",
   "version": "3.12.7"
  }
 },
 "nbformat": 4,
 "nbformat_minor": 5
}
